{
 "cells": [
  {
   "cell_type": "code",
   "execution_count": 1,
   "metadata": {},
   "outputs": [
    {
     "name": "stdout",
     "output_type": "stream",
     "text": [
      "Quantité initiale en réactif R1 : 1\n",
      "Quantité initiale en réactif R2 : 2\n",
      "Quantité initiale en réactif R3 : 3\n",
      "Quantité initiale en réactif R4 : 4\n",
      "Si la transformation est totale, l'avancement final vaut : xmax = 1.0 mol.\n",
      "Quantité finale en réactif R1 : 0.0 mol\n",
      "Quantité finale en réactif R2 : 0.0 mol\n",
      "Quantité finale en réactif R3 : 1.0 mol\n",
      "Quantité finale en réactif R4 : 2.0 mol\n",
      "Quantité finale en produit P1 : 2.0 mol\n",
      "Quantité finale en produit P2 : 2.0 mol\n",
      "Quantité finale en produit P3 : 2.0 mol\n",
      "Quantité finale en produit P4 : 2.0 mol\n"
     ]
    }
   ],
   "source": [
    "# Affectation du nombre de réactifs et du nombre de produits de la réaction :\n",
    "nbeR,nbeP=4,4\n",
    "\n",
    "# Affectation des nombres stoechiométriques des réactifs dans une première liste,\n",
    "# et de ceux des produits dans une seconde liste :\n",
    "liste_a,liste_b=[1,2,2,2],[2,2,2,2]\n",
    "\n",
    "# Initialisation de la liste des quantités initiales en réactifs :\n",
    "liste_nR=list()   # ou liste_nR =[]\n",
    "\n",
    "# Demande des quantités initiales en réactifs à l'utilisateur\n",
    "# et stockage dans la liste précédemment créée :\n",
    "for k in range(nbeR):\n",
    "    nR=float(input(\"Quantité initiale en réactif R\"+str(k+1)+\" : \"))\n",
    "    liste_nR.append(nR)\n",
    "\n",
    "# Création de la liste des quantités initiales en produits (supposées nulles) :\n",
    "liste_nP=[0]*nbeP\n",
    "\n",
    "# Calcul, pour chaque réactif, de la valeur du rapport\n",
    "# \"quantité initiale / nombre stoechiométrique\"\n",
    "# et stockage des résultats dans une nouvelle liste :\n",
    "candidats=list()\n",
    "for k in range(nbeR):\n",
    "    candidats.append(liste_nR[k]/liste_a[k])\n",
    "\n",
    "# Calcul de l'avancement maximal de la réaction :\n",
    "xmax=min(candidats)\n",
    "\n",
    "# Affichage de la valeur de l'avancement final (transformation supposée totale) :\n",
    "print(\"Si la transformation est totale, l'avancement final vaut : xmax =\",xmax,\"mol.\")\n",
    "\n",
    "# Calcul et affichage de la quantité restante à l'état final en chacun des réactifs :\n",
    "for k in range(nbeR):\n",
    "    nRk_final=liste_nR[k]-liste_a[k]*xmax\n",
    "    print(\"Quantité finale en réactif R\"+str(k+1)+\" : \"+str(nRk_final)+\" mol\")\n",
    "\n",
    "# Calcul et affichage de la quantité formée à l'état final en chacun des produits :\n",
    "for k in range(nbeP):\n",
    "    nPk_final=liste_nP[k]+liste_b[k]*xmax\n",
    "    print(\"Quantité finale en produit P\"+str(k+1)+\" : \"+str(nPk_final)+\" mol\")"
   ]
  },
  {
   "cell_type": "code",
   "execution_count": null,
   "metadata": {},
   "outputs": [],
   "source": []
  }
 ],
 "metadata": {
  "kernelspec": {
   "display_name": "Python 3",
   "language": "python",
   "name": "python3"
  },
  "language_info": {
   "codemirror_mode": {
    "name": "ipython",
    "version": 3
   },
   "file_extension": ".py",
   "mimetype": "text/x-python",
   "name": "python",
   "nbconvert_exporter": "python",
   "pygments_lexer": "ipython3",
   "version": "3.7.6"
  }
 },
 "nbformat": 4,
 "nbformat_minor": 4
}
